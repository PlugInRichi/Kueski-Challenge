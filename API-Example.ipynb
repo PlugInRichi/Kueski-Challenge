{
 "cells": [
  {
   "cell_type": "code",
   "execution_count": 1,
   "id": "accomplished-settle",
   "metadata": {},
   "outputs": [],
   "source": [
    "from kueski import loan_predictor"
   ]
  },
  {
   "cell_type": "code",
   "execution_count": 4,
   "id": "north-liberty",
   "metadata": {},
   "outputs": [
    {
     "name": "stderr",
     "output_type": "stream",
     "text": [
      "/opt/conda/lib/python3.9/site-packages/sklearn/base.py:441: UserWarning: X does not have valid feature names, but RandomForestClassifier was fitted with feature names\n",
      "  warnings.warn(\n"
     ]
    },
    {
     "data": {
      "text/plain": [
       "array([0])"
      ]
     },
     "execution_count": 4,
     "metadata": {},
     "output_type": "execute_result"
    }
   ],
   "source": [
    "loan_predictor.get_prediction(5008804)"
   ]
  },
  {
   "cell_type": "code",
   "execution_count": 7,
   "id": "6ca4721d",
   "metadata": {},
   "outputs": [
    {
     "data": {
      "text/plain": [
       "[127.66856271134037, 9, 40, 7, 1, 0, 2.0, 562500.0, 'Working']"
      ]
     },
     "execution_count": 7,
     "metadata": {},
     "output_type": "execute_result"
    }
   ],
   "source": [
    "loan_predictor.get_latest_user_data(5089392)"
   ]
  }
 ],
 "metadata": {
  "kernelspec": {
   "display_name": "Python 3 (ipykernel)",
   "language": "python",
   "name": "python3"
  },
  "language_info": {
   "codemirror_mode": {
    "name": "ipython",
    "version": 3
   },
   "file_extension": ".py",
   "mimetype": "text/x-python",
   "name": "python",
   "nbconvert_exporter": "python",
   "pygments_lexer": "ipython3",
   "version": "3.9.7"
  }
 },
 "nbformat": 4,
 "nbformat_minor": 5
}

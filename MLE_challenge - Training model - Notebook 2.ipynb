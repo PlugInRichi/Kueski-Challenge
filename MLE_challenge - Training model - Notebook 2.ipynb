{
 "cells": [
  {
   "cell_type": "markdown",
   "id": "8fa07a4f",
   "metadata": {},
   "source": [
    "# MLE challenge - Train model notebook"
   ]
  },
  {
   "cell_type": "markdown",
   "id": "8c09cfde",
   "metadata": {},
   "source": [
    "### Notebook 2"
   ]
  },
  {
   "cell_type": "markdown",
   "id": "b8c189b6",
   "metadata": {},
   "source": [
    "In this notebook, we train the model with a few features (for reasons of time and complexity in solving the challenge). It also shows how to persist the model in a file, load it into memory and then make a predict.\n",
    "\n"
   ]
  },
  {
   "cell_type": "code",
   "execution_count": 1,
   "id": "b6ff383b",
   "metadata": {},
   "outputs": [],
   "source": [
    "import pandas as pd\n",
    "\n",
    "import matplotlib.pyplot as plt\n",
    "%matplotlib inline\n",
    "\n",
    "from imblearn.over_sampling import SMOTE\n",
    "from sklearn.model_selection import train_test_split\n",
    "from sklearn.metrics import (\n",
    "    accuracy_score, confusion_matrix, recall_score, \n",
    "    plot_confusion_matrix, precision_score, plot_roc_curve\n",
    ")\n",
    "\n",
    "from sklearn.ensemble import RandomForestClassifier\n",
    "\n",
    "from sklearn.preprocessing import OrdinalEncoder, OneHotEncoder"
   ]
  },
  {
   "cell_type": "markdown",
   "id": "01bc180c",
   "metadata": {},
   "source": [
    "#### Read dataset"
   ]
  },
  {
   "cell_type": "code",
   "execution_count": 2,
   "id": "c31ed055",
   "metadata": {},
   "outputs": [],
   "source": [
    "df = pd.read_csv('train_model.csv')"
   ]
  },
  {
   "cell_type": "code",
   "execution_count": 3,
   "id": "cb449ae8",
   "metadata": {
    "scrolled": false
   },
   "outputs": [
    {
     "data": {
      "text/html": [
       "<div>\n",
       "<style scoped>\n",
       "    .dataframe tbody tr th:only-of-type {\n",
       "        vertical-align: middle;\n",
       "    }\n",
       "\n",
       "    .dataframe tbody tr th {\n",
       "        vertical-align: top;\n",
       "    }\n",
       "\n",
       "    .dataframe thead th {\n",
       "        text-align: right;\n",
       "    }\n",
       "</style>\n",
       "<table border=\"1\" class=\"dataframe\">\n",
       "  <thead>\n",
       "    <tr style=\"text-align: right;\">\n",
       "      <th></th>\n",
       "      <th>id</th>\n",
       "      <th>age</th>\n",
       "      <th>years_on_the_job</th>\n",
       "      <th>nb_previous_loans</th>\n",
       "      <th>avg_amount_loans_previous</th>\n",
       "      <th>flag_own_car</th>\n",
       "      <th>flag_own_realty</th>\n",
       "      <th>cnt_fam_members</th>\n",
       "      <th>amt_income_total</th>\n",
       "      <th>name_income_type</th>\n",
       "      <th>status</th>\n",
       "    </tr>\n",
       "  </thead>\n",
       "  <tbody>\n",
       "    <tr>\n",
       "      <th>0</th>\n",
       "      <td>5008804</td>\n",
       "      <td>32</td>\n",
       "      <td>12.0</td>\n",
       "      <td>15</td>\n",
       "      <td>128.906371</td>\n",
       "      <td>1</td>\n",
       "      <td>1</td>\n",
       "      <td>2</td>\n",
       "      <td>427500.0</td>\n",
       "      <td>Working</td>\n",
       "      <td>0</td>\n",
       "    </tr>\n",
       "    <tr>\n",
       "      <th>1</th>\n",
       "      <td>5008805</td>\n",
       "      <td>32</td>\n",
       "      <td>12.0</td>\n",
       "      <td>14</td>\n",
       "      <td>123.938950</td>\n",
       "      <td>1</td>\n",
       "      <td>1</td>\n",
       "      <td>2</td>\n",
       "      <td>427500.0</td>\n",
       "      <td>Working</td>\n",
       "      <td>0</td>\n",
       "    </tr>\n",
       "    <tr>\n",
       "      <th>2</th>\n",
       "      <td>5008806</td>\n",
       "      <td>58</td>\n",
       "      <td>3.0</td>\n",
       "      <td>29</td>\n",
       "      <td>136.446864</td>\n",
       "      <td>1</td>\n",
       "      <td>1</td>\n",
       "      <td>2</td>\n",
       "      <td>112500.0</td>\n",
       "      <td>Working</td>\n",
       "      <td>0</td>\n",
       "    </tr>\n",
       "    <tr>\n",
       "      <th>3</th>\n",
       "      <td>5008808</td>\n",
       "      <td>52</td>\n",
       "      <td>8.0</td>\n",
       "      <td>4</td>\n",
       "      <td>125.327722</td>\n",
       "      <td>0</td>\n",
       "      <td>1</td>\n",
       "      <td>1</td>\n",
       "      <td>270000.0</td>\n",
       "      <td>Commercial associate</td>\n",
       "      <td>0</td>\n",
       "    </tr>\n",
       "    <tr>\n",
       "      <th>4</th>\n",
       "      <td>5008809</td>\n",
       "      <td>52</td>\n",
       "      <td>8.0</td>\n",
       "      <td>4</td>\n",
       "      <td>113.006746</td>\n",
       "      <td>0</td>\n",
       "      <td>1</td>\n",
       "      <td>1</td>\n",
       "      <td>270000.0</td>\n",
       "      <td>Commercial associate</td>\n",
       "      <td>0</td>\n",
       "    </tr>\n",
       "  </tbody>\n",
       "</table>\n",
       "</div>"
      ],
      "text/plain": [
       "        id  age  years_on_the_job  nb_previous_loans  \\\n",
       "0  5008804   32              12.0                 15   \n",
       "1  5008805   32              12.0                 14   \n",
       "2  5008806   58               3.0                 29   \n",
       "3  5008808   52               8.0                  4   \n",
       "4  5008809   52               8.0                  4   \n",
       "\n",
       "   avg_amount_loans_previous  flag_own_car  flag_own_realty  cnt_fam_members  \\\n",
       "0                 128.906371             1                1                2   \n",
       "1                 123.938950             1                1                2   \n",
       "2                 136.446864             1                1                2   \n",
       "3                 125.327722             0                1                1   \n",
       "4                 113.006746             0                1                1   \n",
       "\n",
       "   amt_income_total      name_income_type  status  \n",
       "0          427500.0               Working       0  \n",
       "1          427500.0               Working       0  \n",
       "2          112500.0               Working       0  \n",
       "3          270000.0  Commercial associate       0  \n",
       "4          270000.0  Commercial associate       0  "
      ]
     },
     "execution_count": 3,
     "metadata": {},
     "output_type": "execute_result"
    }
   ],
   "source": [
    "df.head()"
   ]
  },
  {
   "cell_type": "code",
   "execution_count": 4,
   "id": "e15b7502",
   "metadata": {},
   "outputs": [
    {
     "data": {
      "text/plain": [
       "id                             int64\n",
       "age                            int64\n",
       "years_on_the_job             float64\n",
       "nb_previous_loans              int64\n",
       "avg_amount_loans_previous    float64\n",
       "flag_own_car                   int64\n",
       "flag_own_realty                int64\n",
       "cnt_fam_members                int64\n",
       "amt_income_total             float64\n",
       "name_income_type              object\n",
       "status                         int64\n",
       "dtype: object"
      ]
     },
     "execution_count": 4,
     "metadata": {},
     "output_type": "execute_result"
    }
   ],
   "source": [
    "df.dtypes"
   ]
  },
  {
   "cell_type": "code",
   "execution_count": 5,
   "id": "06c6c8cb",
   "metadata": {},
   "outputs": [
    {
     "data": {
      "text/plain": [
       "<matplotlib.axes._subplots.AxesSubplot at 0x7f952b9bdeb8>"
      ]
     },
     "execution_count": 5,
     "metadata": {},
     "output_type": "execute_result"
    },
    {
     "data": {
      "image/png": "[encoded data removed]",
      "text/plain": [
       "<Figure size 432x288 with 1 Axes>"
      ]
     },
     "metadata": {
      "needs_background": "light"
     },
     "output_type": "display_data"
    }
   ],
   "source": [
    "df.status.hist()"
   ]
  },
  {
   "cell_type": "code",
   "execution_count": 6,
   "id": "cc3f51e7",
   "metadata": {},
   "outputs": [],
   "source": [
    "cust_df = df.copy()"
   ]
  },
  {
   "cell_type": "markdown",
   "id": "alternate-enterprise",
   "metadata": {},
   "source": [
    "## Dropping Outliers\n",
    "In case we have some outliers can be eliminated to get a better model"
   ]
  },
  {
   "cell_type": "code",
   "execution_count": 23,
   "id": "monthly-rough",
   "metadata": {},
   "outputs": [
    {
     "data": {
      "text/html": [
       "<div>\n",
       "<style scoped>\n",
       "    .dataframe tbody tr th:only-of-type {\n",
       "        vertical-align: middle;\n",
       "    }\n",
       "\n",
       "    .dataframe tbody tr th {\n",
       "        vertical-align: top;\n",
       "    }\n",
       "\n",
       "    .dataframe thead th {\n",
       "        text-align: right;\n",
       "    }\n",
       "</style>\n",
       "<table border=\"1\" class=\"dataframe\">\n",
       "  <thead>\n",
       "    <tr style=\"text-align: right;\">\n",
       "      <th></th>\n",
       "      <th>id</th>\n",
       "      <th>age</th>\n",
       "      <th>years_on_the_job</th>\n",
       "      <th>nb_previous_loans</th>\n",
       "      <th>avg_amount_loans_previous</th>\n",
       "      <th>flag_own_car</th>\n",
       "      <th>flag_own_realty</th>\n",
       "      <th>cnt_fam_members</th>\n",
       "      <th>amt_income_total</th>\n",
       "      <th>Commercial associate</th>\n",
       "      <th>Pensioner</th>\n",
       "      <th>State servant</th>\n",
       "      <th>Student</th>\n",
       "      <th>Working</th>\n",
       "    </tr>\n",
       "  </thead>\n",
       "  <tbody>\n",
       "    <tr>\n",
       "      <th>count</th>\n",
       "      <td>3.645700e+04</td>\n",
       "      <td>36457.000000</td>\n",
       "      <td>36457.000000</td>\n",
       "      <td>36457.000000</td>\n",
       "      <td>36457.000000</td>\n",
       "      <td>36457.000000</td>\n",
       "      <td>36457.000000</td>\n",
       "      <td>36457.000000</td>\n",
       "      <td>3.645700e+04</td>\n",
       "      <td>36457.000000</td>\n",
       "      <td>36457.000000</td>\n",
       "      <td>36457.000000</td>\n",
       "      <td>36457.000000</td>\n",
       "      <td>36457.000000</td>\n",
       "    </tr>\n",
       "    <tr>\n",
       "      <th>mean</th>\n",
       "      <td>5.078227e+06</td>\n",
       "      <td>43.336012</td>\n",
       "      <td>5.679623</td>\n",
       "      <td>20.332392</td>\n",
       "      <td>129.528212</td>\n",
       "      <td>0.379708</td>\n",
       "      <td>0.672189</td>\n",
       "      <td>2.198453</td>\n",
       "      <td>1.866857e+05</td>\n",
       "      <td>0.232877</td>\n",
       "      <td>0.168747</td>\n",
       "      <td>0.081877</td>\n",
       "      <td>0.000302</td>\n",
       "      <td>0.516197</td>\n",
       "    </tr>\n",
       "    <tr>\n",
       "      <th>std</th>\n",
       "      <td>4.187524e+04</td>\n",
       "      <td>11.514500</td>\n",
       "      <td>6.427846</td>\n",
       "      <td>14.911849</td>\n",
       "      <td>11.619970</td>\n",
       "      <td>0.485321</td>\n",
       "      <td>0.469422</td>\n",
       "      <td>0.911686</td>\n",
       "      <td>1.017892e+05</td>\n",
       "      <td>0.422670</td>\n",
       "      <td>0.374533</td>\n",
       "      <td>0.274181</td>\n",
       "      <td>0.017368</td>\n",
       "      <td>0.499744</td>\n",
       "    </tr>\n",
       "    <tr>\n",
       "      <th>min</th>\n",
       "      <td>5.008804e+06</td>\n",
       "      <td>20.000000</td>\n",
       "      <td>0.000000</td>\n",
       "      <td>0.000000</td>\n",
       "      <td>100.035747</td>\n",
       "      <td>0.000000</td>\n",
       "      <td>0.000000</td>\n",
       "      <td>1.000000</td>\n",
       "      <td>2.700000e+04</td>\n",
       "      <td>0.000000</td>\n",
       "      <td>0.000000</td>\n",
       "      <td>0.000000</td>\n",
       "      <td>0.000000</td>\n",
       "      <td>0.000000</td>\n",
       "    </tr>\n",
       "    <tr>\n",
       "      <th>25%</th>\n",
       "      <td>5.042028e+06</td>\n",
       "      <td>34.000000</td>\n",
       "      <td>1.000000</td>\n",
       "      <td>8.000000</td>\n",
       "      <td>123.268623</td>\n",
       "      <td>0.000000</td>\n",
       "      <td>0.000000</td>\n",
       "      <td>2.000000</td>\n",
       "      <td>1.215000e+05</td>\n",
       "      <td>0.000000</td>\n",
       "      <td>0.000000</td>\n",
       "      <td>0.000000</td>\n",
       "      <td>0.000000</td>\n",
       "      <td>0.000000</td>\n",
       "    </tr>\n",
       "    <tr>\n",
       "      <th>50%</th>\n",
       "      <td>5.074614e+06</td>\n",
       "      <td>42.000000</td>\n",
       "      <td>4.000000</td>\n",
       "      <td>17.000000</td>\n",
       "      <td>128.599515</td>\n",
       "      <td>0.000000</td>\n",
       "      <td>1.000000</td>\n",
       "      <td>2.000000</td>\n",
       "      <td>1.575000e+05</td>\n",
       "      <td>0.000000</td>\n",
       "      <td>0.000000</td>\n",
       "      <td>0.000000</td>\n",
       "      <td>0.000000</td>\n",
       "      <td>1.000000</td>\n",
       "    </tr>\n",
       "    <tr>\n",
       "      <th>75%</th>\n",
       "      <td>5.115396e+06</td>\n",
       "      <td>53.000000</td>\n",
       "      <td>8.000000</td>\n",
       "      <td>30.000000</td>\n",
       "      <td>134.229576</td>\n",
       "      <td>1.000000</td>\n",
       "      <td>1.000000</td>\n",
       "      <td>3.000000</td>\n",
       "      <td>2.250000e+05</td>\n",
       "      <td>0.000000</td>\n",
       "      <td>0.000000</td>\n",
       "      <td>0.000000</td>\n",
       "      <td>0.000000</td>\n",
       "      <td>1.000000</td>\n",
       "    </tr>\n",
       "    <tr>\n",
       "      <th>max</th>\n",
       "      <td>5.150487e+06</td>\n",
       "      <td>68.000000</td>\n",
       "      <td>43.000000</td>\n",
       "      <td>60.000000</td>\n",
       "      <td>399.048845</td>\n",
       "      <td>1.000000</td>\n",
       "      <td>1.000000</td>\n",
       "      <td>20.000000</td>\n",
       "      <td>1.575000e+06</td>\n",
       "      <td>1.000000</td>\n",
       "      <td>1.000000</td>\n",
       "      <td>1.000000</td>\n",
       "      <td>1.000000</td>\n",
       "      <td>1.000000</td>\n",
       "    </tr>\n",
       "  </tbody>\n",
       "</table>\n",
       "</div>"
      ],
      "text/plain": [
       "                 id           age  years_on_the_job  nb_previous_loans  \\\n",
       "count  3.645700e+04  36457.000000      36457.000000       36457.000000   \n",
       "mean   5.078227e+06     43.336012          5.679623          20.332392   \n",
       "std    4.187524e+04     11.514500          6.427846          14.911849   \n",
       "min    5.008804e+06     20.000000          0.000000           0.000000   \n",
       "25%    5.042028e+06     34.000000          1.000000           8.000000   \n",
       "50%    5.074614e+06     42.000000          4.000000          17.000000   \n",
       "75%    5.115396e+06     53.000000          8.000000          30.000000   \n",
       "max    5.150487e+06     68.000000         43.000000          60.000000   \n",
       "\n",
       "       avg_amount_loans_previous  flag_own_car  flag_own_realty  \\\n",
       "count               36457.000000  36457.000000     36457.000000   \n",
       "mean                  129.528212      0.379708         0.672189   \n",
       "std                    11.619970      0.485321         0.469422   \n",
       "min                   100.035747      0.000000         0.000000   \n",
       "25%                   123.268623      0.000000         0.000000   \n",
       "50%                   128.599515      0.000000         1.000000   \n",
       "75%                   134.229576      1.000000         1.000000   \n",
       "max                   399.048845      1.000000         1.000000   \n",
       "\n",
       "       cnt_fam_members  amt_income_total  Commercial associate     Pensioner  \\\n",
       "count     36457.000000      3.645700e+04          36457.000000  36457.000000   \n",
       "mean          2.198453      1.866857e+05              0.232877      0.168747   \n",
       "std           0.911686      1.017892e+05              0.422670      0.374533   \n",
       "min           1.000000      2.700000e+04              0.000000      0.000000   \n",
       "25%           2.000000      1.215000e+05              0.000000      0.000000   \n",
       "50%           2.000000      1.575000e+05              0.000000      0.000000   \n",
       "75%           3.000000      2.250000e+05              0.000000      0.000000   \n",
       "max          20.000000      1.575000e+06              1.000000      1.000000   \n",
       "\n",
       "       State servant       Student       Working  \n",
       "count   36457.000000  36457.000000  36457.000000  \n",
       "mean        0.081877      0.000302      0.516197  \n",
       "std         0.274181      0.017368      0.499744  \n",
       "min         0.000000      0.000000      0.000000  \n",
       "25%         0.000000      0.000000      0.000000  \n",
       "50%         0.000000      0.000000      1.000000  \n",
       "75%         0.000000      0.000000      1.000000  \n",
       "max         1.000000      1.000000      1.000000  "
      ]
     },
     "execution_count": 23,
     "metadata": {},
     "output_type": "execute_result"
    }
   ],
   "source": [
    "cust_df.describe()"
   ]
  },
  {
   "cell_type": "markdown",
   "id": "involved-audience",
   "metadata": {},
   "source": [
    "## Missing values"
   ]
  },
  {
   "cell_type": "code",
   "execution_count": 7,
   "id": "4c560dc4",
   "metadata": {},
   "outputs": [],
   "source": [
    "cust_df['avg_amount_loans_previous'].fillna(cust_df['avg_amount_loans_previous'].mean(), inplace=True)\n",
    "#cust_df['avg_amount_loans_previous'].fillna(0, inplace=True)\n",
    "cust_df['years_on_the_job'].fillna(0, inplace=True)"
   ]
  },
  {
   "cell_type": "markdown",
   "id": "individual-convenience",
   "metadata": {},
   "source": [
    "##  Categoriacal values"
   ]
  },
  {
   "cell_type": "code",
   "execution_count": 8,
   "id": "physical-intensity",
   "metadata": {},
   "outputs": [],
   "source": [
    "cat_income_type = cust_df['name_income_type'].to_numpy().reshape(-1, 1)\n",
    "ordinal_encoder = OrdinalEncoder()\n",
    "income_type = ordinal_encoder.fit_transform(cat_income_type)"
   ]
  },
  {
   "cell_type": "code",
   "execution_count": 9,
   "id": "legendary-roller",
   "metadata": {},
   "outputs": [],
   "source": [
    "one_hot_encoder = OneHotEncoder()\n",
    "income_type_1hot = one_hot_encoder.fit_transform(income_type)"
   ]
  },
  {
   "cell_type": "code",
   "execution_count": 10,
   "id": "immune-necessity",
   "metadata": {},
   "outputs": [],
   "source": [
    "for cat, name in enumerate(ordinal_encoder.categories_[0]):\n",
    "    cust_df[name] = income_type_1hot[:, cat].toarray()\n",
    "cust_df.drop('name_income_type', axis=1, inplace=True)"
   ]
  },
  {
   "cell_type": "code",
   "execution_count": 11,
   "id": "architectural-rescue",
   "metadata": {},
   "outputs": [
    {
     "data": {
      "text/html": [
       "<div>\n",
       "<style scoped>\n",
       "    .dataframe tbody tr th:only-of-type {\n",
       "        vertical-align: middle;\n",
       "    }\n",
       "\n",
       "    .dataframe tbody tr th {\n",
       "        vertical-align: top;\n",
       "    }\n",
       "\n",
       "    .dataframe thead th {\n",
       "        text-align: right;\n",
       "    }\n",
       "</style>\n",
       "<table border=\"1\" class=\"dataframe\">\n",
       "  <thead>\n",
       "    <tr style=\"text-align: right;\">\n",
       "      <th></th>\n",
       "      <th>id</th>\n",
       "      <th>age</th>\n",
       "      <th>years_on_the_job</th>\n",
       "      <th>nb_previous_loans</th>\n",
       "      <th>avg_amount_loans_previous</th>\n",
       "      <th>flag_own_car</th>\n",
       "      <th>flag_own_realty</th>\n",
       "      <th>cnt_fam_members</th>\n",
       "      <th>amt_income_total</th>\n",
       "      <th>status</th>\n",
       "      <th>Commercial associate</th>\n",
       "      <th>Pensioner</th>\n",
       "      <th>State servant</th>\n",
       "      <th>Student</th>\n",
       "      <th>Working</th>\n",
       "    </tr>\n",
       "  </thead>\n",
       "  <tbody>\n",
       "    <tr>\n",
       "      <th>0</th>\n",
       "      <td>5008804</td>\n",
       "      <td>32</td>\n",
       "      <td>12.0</td>\n",
       "      <td>15</td>\n",
       "      <td>128.906371</td>\n",
       "      <td>1</td>\n",
       "      <td>1</td>\n",
       "      <td>2</td>\n",
       "      <td>427500.0</td>\n",
       "      <td>0</td>\n",
       "      <td>0.0</td>\n",
       "      <td>0.0</td>\n",
       "      <td>0.0</td>\n",
       "      <td>0.0</td>\n",
       "      <td>1.0</td>\n",
       "    </tr>\n",
       "    <tr>\n",
       "      <th>1</th>\n",
       "      <td>5008805</td>\n",
       "      <td>32</td>\n",
       "      <td>12.0</td>\n",
       "      <td>14</td>\n",
       "      <td>123.938950</td>\n",
       "      <td>1</td>\n",
       "      <td>1</td>\n",
       "      <td>2</td>\n",
       "      <td>427500.0</td>\n",
       "      <td>0</td>\n",
       "      <td>0.0</td>\n",
       "      <td>0.0</td>\n",
       "      <td>0.0</td>\n",
       "      <td>0.0</td>\n",
       "      <td>1.0</td>\n",
       "    </tr>\n",
       "    <tr>\n",
       "      <th>2</th>\n",
       "      <td>5008806</td>\n",
       "      <td>58</td>\n",
       "      <td>3.0</td>\n",
       "      <td>29</td>\n",
       "      <td>136.446864</td>\n",
       "      <td>1</td>\n",
       "      <td>1</td>\n",
       "      <td>2</td>\n",
       "      <td>112500.0</td>\n",
       "      <td>0</td>\n",
       "      <td>0.0</td>\n",
       "      <td>0.0</td>\n",
       "      <td>0.0</td>\n",
       "      <td>0.0</td>\n",
       "      <td>1.0</td>\n",
       "    </tr>\n",
       "    <tr>\n",
       "      <th>3</th>\n",
       "      <td>5008808</td>\n",
       "      <td>52</td>\n",
       "      <td>8.0</td>\n",
       "      <td>4</td>\n",
       "      <td>125.327722</td>\n",
       "      <td>0</td>\n",
       "      <td>1</td>\n",
       "      <td>1</td>\n",
       "      <td>270000.0</td>\n",
       "      <td>0</td>\n",
       "      <td>1.0</td>\n",
       "      <td>0.0</td>\n",
       "      <td>0.0</td>\n",
       "      <td>0.0</td>\n",
       "      <td>0.0</td>\n",
       "    </tr>\n",
       "    <tr>\n",
       "      <th>4</th>\n",
       "      <td>5008809</td>\n",
       "      <td>52</td>\n",
       "      <td>8.0</td>\n",
       "      <td>4</td>\n",
       "      <td>113.006746</td>\n",
       "      <td>0</td>\n",
       "      <td>1</td>\n",
       "      <td>1</td>\n",
       "      <td>270000.0</td>\n",
       "      <td>0</td>\n",
       "      <td>1.0</td>\n",
       "      <td>0.0</td>\n",
       "      <td>0.0</td>\n",
       "      <td>0.0</td>\n",
       "      <td>0.0</td>\n",
       "    </tr>\n",
       "  </tbody>\n",
       "</table>\n",
       "</div>"
      ],
      "text/plain": [
       "        id  age  years_on_the_job  nb_previous_loans  \\\n",
       "0  5008804   32              12.0                 15   \n",
       "1  5008805   32              12.0                 14   \n",
       "2  5008806   58               3.0                 29   \n",
       "3  5008808   52               8.0                  4   \n",
       "4  5008809   52               8.0                  4   \n",
       "\n",
       "   avg_amount_loans_previous  flag_own_car  flag_own_realty  cnt_fam_members  \\\n",
       "0                 128.906371             1                1                2   \n",
       "1                 123.938950             1                1                2   \n",
       "2                 136.446864             1                1                2   \n",
       "3                 125.327722             0                1                1   \n",
       "4                 113.006746             0                1                1   \n",
       "\n",
       "   amt_income_total  status  Commercial associate  Pensioner  State servant  \\\n",
       "0          427500.0       0                   0.0        0.0            0.0   \n",
       "1          427500.0       0                   0.0        0.0            0.0   \n",
       "2          112500.0       0                   0.0        0.0            0.0   \n",
       "3          270000.0       0                   1.0        0.0            0.0   \n",
       "4          270000.0       0                   1.0        0.0            0.0   \n",
       "\n",
       "   Student  Working  \n",
       "0      0.0      1.0  \n",
       "1      0.0      1.0  \n",
       "2      0.0      1.0  \n",
       "3      0.0      0.0  \n",
       "4      0.0      0.0  "
      ]
     },
     "execution_count": 11,
     "metadata": {},
     "output_type": "execute_result"
    }
   ],
   "source": [
    "cust_df.head()"
   ]
  },
  {
   "cell_type": "markdown",
   "id": "baa51909",
   "metadata": {},
   "source": [
    "## Train model"
   ]
  },
  {
   "cell_type": "code",
   "execution_count": 12,
   "id": "61545063",
   "metadata": {},
   "outputs": [],
   "source": [
    "Y = cust_df['status']\n",
    "\n",
    "cust_df.drop(['status'], axis=1, inplace=True)\n",
    "\n",
    "X = cust_df"
   ]
  },
  {
   "cell_type": "code",
   "execution_count": 13,
   "id": "96c11977",
   "metadata": {},
   "outputs": [],
   "source": [
    "# Using Synthetic Minority Over-Sampling Technique(SMOTE) to overcome sample imbalance problem.\n",
    "Y = Y.astype('int')\n",
    "X_balance, Y_balance = SMOTE().fit_resample(X, Y)\n",
    "X_balance = pd.DataFrame(X_balance, columns=X.columns)"
   ]
  },
  {
   "cell_type": "code",
   "execution_count": 14,
   "id": "59b50a84",
   "metadata": {},
   "outputs": [
    {
     "data": {
      "text/plain": [
       "RandomForestClassifier(n_estimators=5)"
      ]
     },
     "execution_count": 14,
     "metadata": {},
     "output_type": "execute_result"
    }
   ],
   "source": [
    "X_train, X_test, y_train, y_test = train_test_split(X_balance,Y_balance, \n",
    "                                                    stratify=Y_balance, test_size=0.3,\n",
    "                                                    random_state = 123)\n",
    "\n",
    "model = RandomForestClassifier(n_estimators=5)\n",
    "model.fit(X_train, y_train)"
   ]
  },
  {
   "cell_type": "markdown",
   "id": "dress-capture",
   "metadata": {},
   "source": [
    "## Evaluation Model"
   ]
  },
  {
   "cell_type": "code",
   "execution_count": 15,
   "id": "46efa400",
   "metadata": {},
   "outputs": [
    {
     "name": "stdout",
     "output_type": "stream",
     "text": [
      "Accuracy Score is 0.97965\n",
      "Precision Score is 0.9827\n",
      "Recall Score is 0.9827\n",
      "       0      1\n",
      "0  10576    185\n",
      "1    253  10508\n"
     ]
    },
    {
     "name": "stderr",
     "output_type": "stream",
     "text": [
      "/home/rick/.pyenv/versions/3.7.0/envs/day2/lib/python3.7/site-packages/sklearn/utils/deprecation.py:87: FutureWarning: Function plot_confusion_matrix is deprecated; Function `plot_confusion_matrix` is deprecated in 1.0 and will be removed in 1.2. Use one of the class methods: ConfusionMatrixDisplay.from_predictions or ConfusionMatrixDisplay.from_estimator.\n",
      "  warnings.warn(msg, category=FutureWarning)\n"
     ]
    },
    {
     "data": {
      "image/png": "[encoded data removed]",
      "text/plain": [
       "<Figure size 432x288 with 2 Axes>"
      ]
     },
     "metadata": {
      "needs_background": "light"
     },
     "output_type": "display_data"
    }
   ],
   "source": [
    "\n",
    "y_predict = model.predict(X_test)\n",
    "\n",
    "print('Accuracy Score is {:.5}'.format(accuracy_score(y_test, y_predict)))\n",
    "print('Precision Score is {:.5}'.format(precision_score(y_test, y_predict)))\n",
    "print('Recall Score is {:.5}'.format(precision_score(y_test, y_predict)))\n",
    "print(pd.DataFrame(confusion_matrix(y_test,y_predict)))\n",
    "\n",
    "plot_confusion_matrix(model, X_test, y_test)  \n",
    "plt.show()\n"
   ]
  },
  {
   "cell_type": "code",
   "execution_count": 17,
   "id": "84a1be03",
   "metadata": {},
   "outputs": [
    {
     "name": "stderr",
     "output_type": "stream",
     "text": [
      "/home/rick/.pyenv/versions/3.7.0/envs/day2/lib/python3.7/site-packages/sklearn/utils/deprecation.py:87: FutureWarning: Function plot_roc_curve is deprecated; Function `plot_roc_curve` is deprecated in 1.0 and will be removed in 1.2. Use one of the class methods: RocCurveDisplay.from_predictions or RocCurveDisplay.from_estimator.\n",
      "  warnings.warn(msg, category=FutureWarning)\n"
     ]
    },
    {
     "data": {
      "image/png": "[encoded data removed]",
      "text/plain": [
       "<Figure size 432x288 with 1 Axes>"
      ]
     },
     "metadata": {
      "needs_background": "light"
     },
     "output_type": "display_data"
    }
   ],
   "source": [
    "plot_roc_curve(model, X_test, y_test)\n",
    "plt.show()"
   ]
  },
  {
   "cell_type": "markdown",
   "id": "073a3147",
   "metadata": {},
   "source": [
    "## Model persistance"
   ]
  },
  {
   "cell_type": "code",
   "execution_count": 18,
   "id": "12d73a2f",
   "metadata": {},
   "outputs": [],
   "source": [
    "from joblib import dump, load"
   ]
  },
  {
   "cell_type": "code",
   "execution_count": 19,
   "id": "f391ecdc",
   "metadata": {
    "scrolled": true
   },
   "outputs": [
    {
     "data": {
      "text/plain": [
       "['model_risk.joblib']"
      ]
     },
     "execution_count": 19,
     "metadata": {},
     "output_type": "execute_result"
    }
   ],
   "source": [
    "# dump model\n",
    "dump(model, 'model_risk.joblib') "
   ]
  },
  {
   "cell_type": "markdown",
   "id": "5aad1f36",
   "metadata": {},
   "source": [
    "### Load model & predict"
   ]
  },
  {
   "cell_type": "code",
   "execution_count": 20,
   "id": "41d4be40",
   "metadata": {},
   "outputs": [],
   "source": [
    "my_model = load('model_risk.joblib') "
   ]
  },
  {
   "cell_type": "code",
   "execution_count": 21,
   "id": "7a6d0525",
   "metadata": {},
   "outputs": [],
   "source": [
    "# example dict 'user_id' -> features\n",
    "d = {\n",
    "    '5008804': [32, 12, 2, 1190.45, 1, 5, 1 ,420000.0, 0, 0.0, 1.0, 0.0, 0.0, 0.0],\n",
    "    '5008807': [29, 2, 1, 100, 0, 1, 2 ,427500.0, 0, 0.0, 0.0, 0.0, 0.0, 1.0]\n",
    "}"
   ]
  },
  {
   "cell_type": "code",
   "execution_count": 22,
   "id": "f716668c",
   "metadata": {
    "scrolled": true
   },
   "outputs": [
    {
     "name": "stderr",
     "output_type": "stream",
     "text": [
      "/home/rick/.pyenv/versions/3.7.0/envs/day2/lib/python3.7/site-packages/sklearn/base.py:442: UserWarning: X does not have valid feature names, but RandomForestClassifier was fitted with feature names\n",
      "  \"X does not have valid feature names, but\"\n"
     ]
    },
    {
     "data": {
      "text/plain": [
       "array([1])"
      ]
     },
     "execution_count": 22,
     "metadata": {},
     "output_type": "execute_result"
    }
   ],
   "source": [
    "my_model.predict([d['5008804']])"
   ]
  }
 ],
 "metadata": {
  "kernelspec": {
   "display_name": "Python 3 (ipykernel)",
   "language": "python",
   "name": "python3"
  },
  "language_info": {
   "codemirror_mode": {
    "name": "ipython",
    "version": 3
   },
   "file_extension": ".py",
   "mimetype": "text/x-python",
   "name": "python",
   "nbconvert_exporter": "python",
   "pygments_lexer": "ipython3",
   "version": "3.9.7"
  }
 },
 "nbformat": 4,
 "nbformat_minor": 5
}
